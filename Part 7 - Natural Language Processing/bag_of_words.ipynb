{
  "nbformat": 4,
  "nbformat_minor": 0,
  "metadata": {
    "colab": {
      "name": "bag_of_words.ipynb",
      "provenance": []
    },
    "kernelspec": {
      "name": "python3",
      "display_name": "Python 3"
    }
  },
  "cells": [
    {
      "cell_type": "markdown",
      "metadata": {
        "id": "-48Msz8ajp-U"
      },
      "source": [
        "##Importing Libraries and Dataset"
      ]
    },
    {
      "cell_type": "code",
      "metadata": {
        "id": "ugxK3_0CjMcK"
      },
      "source": [
        "import numpy as np;\n",
        "import pandas as pd;\n",
        "import matplotlib.pyplot as plt;\n",
        "dataset=pd.read_csv(\"/content/drive/My Drive/Dataset/Restaurant_Reviews.tsv\",delimiter='\\t',quoting=3);\n",
        "X=dataset.iloc[:,0].values\n",
        "y=dataset.iloc[:,1].values"
      ],
      "execution_count": 6,
      "outputs": []
    },
    {
      "cell_type": "markdown",
      "metadata": {
        "id": "60K3qTIQjvDb"
      },
      "source": [
        "##Cleaning the Text"
      ]
    },
    {
      "cell_type": "code",
      "metadata": {
        "id": "JEsXFwpklMIA",
        "colab": {
          "base_uri": "https://localhost:8080/"
        },
        "outputId": "4e8eeb80-d4a2-440b-c935-51b301c0f6f3"
      },
      "source": [
        "import re;\n",
        "import nltk;\n",
        "nltk.download('stopwords');\n",
        "from nltk.corpus import stopwords;\n",
        "from nltk.stem.porter import PorterStemmer;\n",
        "corpus=[];\n",
        "all_stopwords=stopwords.words('english');\n",
        "sub=\"n't\";\n",
        "my_stopwords=[word for word in all_stopwords if not sub in word];\n",
        "my_stopwords.remove('not');\n",
        "my_stopwords.remove('no');\n",
        "ps=PorterStemmer();\n",
        "def convert_word(line):\n",
        "  line=re.sub('[^a-zA-Z]',' ',line);\n",
        "  line=line.lower();\n",
        "  line=line.split();\n",
        "  line=[ps.stem(word) for word in line if not word in set(my_stopwords)];\n",
        "  return ' '.join(line);\n",
        "for review in X:\n",
        "  corpus.append(convert_word(review));"
      ],
      "execution_count": 2,
      "outputs": [
        {
          "output_type": "stream",
          "text": [
            "[nltk_data] Downloading package stopwords to /root/nltk_data...\n",
            "[nltk_data]   Unzipping corpora/stopwords.zip.\n"
          ],
          "name": "stdout"
        }
      ]
    },
    {
      "cell_type": "markdown",
      "metadata": {
        "id": "1PKO0bm7jxXp"
      },
      "source": [
        "##Create Bag of Words Model"
      ]
    },
    {
      "cell_type": "code",
      "metadata": {
        "id": "xie9pHeqyzBY"
      },
      "source": [
        "from sklearn.feature_extraction.text import CountVectorizer;\n",
        "cv=CountVectorizer(max_features=1500);\n",
        "x=cv.fit_transform(corpus).toarray();"
      ],
      "execution_count": 3,
      "outputs": []
    },
    {
      "cell_type": "markdown",
      "metadata": {
        "id": "djUb6nzXj68-"
      },
      "source": [
        "##Splitting Dataset & Training Model"
      ]
    },
    {
      "cell_type": "code",
      "metadata": {
        "id": "FzKBZ1YS00e2"
      },
      "source": [
        "from sklearn.model_selection import train_test_split;\n",
        "x_train,x_test,y_train,y_test=train_test_split(x,y,test_size=0.20);\n",
        "from sklearn.svm import SVC;\n",
        "model=SVC(kernel='linear')\n",
        "model.fit(x_train,y_train);"
      ],
      "execution_count": 4,
      "outputs": []
    },
    {
      "cell_type": "markdown",
      "metadata": {
        "id": "UBi5gX3G06cR"
      },
      "source": [
        "##Predicting Result for test cases, Making Confusion Matrix "
      ]
    },
    {
      "cell_type": "code",
      "metadata": {
        "id": "j_dhxoh905cl",
        "colab": {
          "base_uri": "https://localhost:8080/"
        },
        "outputId": "61218c9a-e8f5-4b89-ba66-c480a33bcd7b"
      },
      "source": [
        "y_pred=model.predict(x_test);\n",
        "from sklearn.metrics import confusion_matrix;\n",
        "print(confusion_matrix(y_test,y_pred));\n",
        "from sklearn.metrics import accuracy_score;\n",
        "print(accuracy_score(y_test,y_pred));"
      ],
      "execution_count": 5,
      "outputs": [
        {
          "output_type": "stream",
          "text": [
            "[[86 23]\n",
            " [20 71]]\n",
            "0.785\n"
          ],
          "name": "stdout"
        }
      ]
    }
  ]
}