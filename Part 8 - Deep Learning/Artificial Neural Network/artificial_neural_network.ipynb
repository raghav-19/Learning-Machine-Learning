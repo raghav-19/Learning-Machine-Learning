{
  "nbformat": 4,
  "nbformat_minor": 0,
  "metadata": {
    "colab": {
      "name": "Copy of artificial_neural_network.ipynb",
      "provenance": [],
      "collapsed_sections": []
    },
    "kernelspec": {
      "name": "python3",
      "display_name": "Python 3"
    }
  },
  "cells": [
    {
      "cell_type": "markdown",
      "metadata": {
        "id": "lP6JLo1tGNBg",
        "colab_type": "text"
      },
      "source": [
        "# Artificial Neural Network"
      ]
    },
    {
      "cell_type": "markdown",
      "metadata": {
        "id": "gWZyYmS_UE_L",
        "colab_type": "text"
      },
      "source": [
        "### Importing the libraries"
      ]
    },
    {
      "cell_type": "code",
      "metadata": {
        "id": "MaN1EWPrwMxr",
        "colab_type": "code",
        "colab": {
          "base_uri": "https://localhost:8080/",
          "height": 35
        },
        "outputId": "638c28e6-50d4-4851-bdf5-547c611b5970"
      },
      "source": [
        "import numpy as np;\n",
        "import pandas as pd;\n",
        "import tensorflow as tf;\n",
        "tf.__version__"
      ],
      "execution_count": null,
      "outputs": [
        {
          "output_type": "execute_result",
          "data": {
            "application/vnd.google.colaboratory.intrinsic+json": {
              "type": "string"
            },
            "text/plain": [
              "'2.3.0'"
            ]
          },
          "metadata": {
            "tags": []
          },
          "execution_count": 103
        }
      ]
    },
    {
      "cell_type": "markdown",
      "metadata": {
        "id": "1E0Q3aoKUCRX",
        "colab_type": "text"
      },
      "source": [
        "## Part 1 - Data Preprocessing"
      ]
    },
    {
      "cell_type": "markdown",
      "metadata": {
        "id": "cKWAkFVGUU0Z",
        "colab_type": "text"
      },
      "source": [
        "### Importing the dataset"
      ]
    },
    {
      "cell_type": "code",
      "metadata": {
        "id": "pmv-fKVrwZV2",
        "colab_type": "code",
        "colab": {
          "base_uri": "https://localhost:8080/",
          "height": 136
        },
        "outputId": "a89d5a70-7c30-4d26-e7ac-fecc8df640b5"
      },
      "source": [
        "dataset=pd.read_csv(\"Churn_Modelling.csv\");\n",
        "X = dataset.iloc[:,3:-1].values;\n",
        "y = dataset.iloc[:,-1].values;\n",
        "print(X);"
      ],
      "execution_count": null,
      "outputs": [
        {
          "output_type": "stream",
          "text": [
            "[[619 'France' 'Female' ... 1 1 101348.88]\n",
            " [608 'Spain' 'Female' ... 0 1 112542.58]\n",
            " [502 'France' 'Female' ... 1 0 113931.57]\n",
            " ...\n",
            " [709 'France' 'Female' ... 0 1 42085.58]\n",
            " [772 'Germany' 'Male' ... 1 0 92888.52]\n",
            " [792 'France' 'Female' ... 1 0 38190.78]]\n"
          ],
          "name": "stdout"
        }
      ]
    },
    {
      "cell_type": "markdown",
      "metadata": {
        "id": "N6bQ0UgSU-NJ",
        "colab_type": "text"
      },
      "source": [
        "### Encoding categorical data"
      ]
    },
    {
      "cell_type": "markdown",
      "metadata": {
        "id": "le5MJreAbW52",
        "colab_type": "text"
      },
      "source": [
        "Label Encoding the \"Gender\" column"
      ]
    },
    {
      "cell_type": "code",
      "metadata": {
        "id": "qeiZ6evHxk2L",
        "colab_type": "code",
        "colab": {
          "base_uri": "https://localhost:8080/",
          "height": 136
        },
        "outputId": "4b31eacf-6e22-46c5-e458-06c63812b7c4"
      },
      "source": [
        "from sklearn.preprocessing import LabelEncoder;\n",
        "le = LabelEncoder();\n",
        "X[:,2]=le.fit_transform(X[:,2]);\n",
        "print(X);"
      ],
      "execution_count": null,
      "outputs": [
        {
          "output_type": "stream",
          "text": [
            "[[619 'France' 0 ... 1 1 101348.88]\n",
            " [608 'Spain' 0 ... 0 1 112542.58]\n",
            " [502 'France' 0 ... 1 0 113931.57]\n",
            " ...\n",
            " [709 'France' 0 ... 0 1 42085.58]\n",
            " [772 'Germany' 1 ... 1 0 92888.52]\n",
            " [792 'France' 0 ... 1 0 38190.78]]\n"
          ],
          "name": "stdout"
        }
      ]
    },
    {
      "cell_type": "markdown",
      "metadata": {
        "id": "CUxGZezpbMcb",
        "colab_type": "text"
      },
      "source": [
        "One Hot Encoding the \"Geography\" column"
      ]
    },
    {
      "cell_type": "code",
      "metadata": {
        "id": "UaO3wzfYyQT4",
        "colab_type": "code",
        "colab": {}
      },
      "source": [
        "from sklearn.compose import ColumnTransformer;\n",
        "from sklearn.preprocessing import OneHotEncoder;\n",
        "ct = ColumnTransformer(transformers=[(\"encoder\",OneHotEncoder(), [1])],remainder=\"passthrough\");\n",
        "X = np.array(ct.fit_transform(X));"
      ],
      "execution_count": null,
      "outputs": []
    },
    {
      "cell_type": "code",
      "metadata": {
        "id": "PZUWSqezzltW",
        "colab_type": "code",
        "colab": {
          "base_uri": "https://localhost:8080/",
          "height": 136
        },
        "outputId": "032a1a3d-cb0a-41d7-a42c-5c38c34cee2a"
      },
      "source": [
        "print(X);"
      ],
      "execution_count": null,
      "outputs": [
        {
          "output_type": "stream",
          "text": [
            "[[1.0 0.0 0.0 ... 1 1 101348.88]\n",
            " [0.0 0.0 1.0 ... 0 1 112542.58]\n",
            " [1.0 0.0 0.0 ... 1 0 113931.57]\n",
            " ...\n",
            " [1.0 0.0 0.0 ... 0 1 42085.58]\n",
            " [0.0 1.0 0.0 ... 1 0 92888.52]\n",
            " [1.0 0.0 0.0 ... 1 0 38190.78]]\n"
          ],
          "name": "stdout"
        }
      ]
    },
    {
      "cell_type": "markdown",
      "metadata": {
        "id": "vHol938cW8zd",
        "colab_type": "text"
      },
      "source": [
        "### Splitting the dataset into the Training set and Test set"
      ]
    },
    {
      "cell_type": "code",
      "metadata": {
        "id": "qeASDj6lz0bt",
        "colab_type": "code",
        "colab": {}
      },
      "source": [
        "from sklearn.model_selection import train_test_split;\n",
        "X_train,X_test,y_train,y_test = train_test_split(X,y,test_size=0.2,random_state=1);"
      ],
      "execution_count": null,
      "outputs": []
    },
    {
      "cell_type": "markdown",
      "metadata": {
        "id": "RE_FcHyfV3TQ",
        "colab_type": "text"
      },
      "source": [
        "### Feature Scaling is compulsory for ANN for all feature and column even hot encoding data"
      ]
    },
    {
      "cell_type": "code",
      "metadata": {
        "id": "IYYgP-Zfz5pq",
        "colab_type": "code",
        "colab": {}
      },
      "source": [
        "from sklearn.preprocessing import StandardScaler;\n",
        "sc = StandardScaler();\n",
        "X_train = sc.fit_transform(X_train);\n",
        "X_test = sc.transform(X_test);"
      ],
      "execution_count": null,
      "outputs": []
    },
    {
      "cell_type": "markdown",
      "metadata": {
        "id": "-zfEzkRVXIwF",
        "colab_type": "text"
      },
      "source": [
        "## Part 2 - Building the ANN"
      ]
    },
    {
      "cell_type": "markdown",
      "metadata": {
        "id": "KvdeScabXtlB",
        "colab_type": "text"
      },
      "source": [
        "### Initializing the ANN"
      ]
    },
    {
      "cell_type": "code",
      "metadata": {
        "id": "6s0Jr6P62yPa",
        "colab_type": "code",
        "colab": {}
      },
      "source": [
        "ann = tf.keras.models.Sequential();"
      ],
      "execution_count": null,
      "outputs": []
    },
    {
      "cell_type": "markdown",
      "metadata": {
        "id": "rP6urV6SX7kS",
        "colab_type": "text"
      },
      "source": [
        "### Adding the input layer and the first hidden layer"
      ]
    },
    {
      "cell_type": "code",
      "metadata": {
        "id": "nCNSMKYT23vO",
        "colab_type": "code",
        "colab": {}
      },
      "source": [
        "ann.add(tf.keras.layers.Dense(units=6,activation='relu'));"
      ],
      "execution_count": null,
      "outputs": []
    },
    {
      "cell_type": "markdown",
      "metadata": {
        "id": "BELWAc_8YJze",
        "colab_type": "text"
      },
      "source": [
        "### Adding the second hidden layer"
      ]
    },
    {
      "cell_type": "code",
      "metadata": {
        "id": "YflHksfG4LsG",
        "colab_type": "code",
        "colab": {}
      },
      "source": [
        "ann.add(tf.keras.layers.Dense(units=6,activation='relu'));"
      ],
      "execution_count": null,
      "outputs": []
    },
    {
      "cell_type": "markdown",
      "metadata": {
        "id": "OyNEe6RXYcU4",
        "colab_type": "text"
      },
      "source": [
        "### Adding the output layer"
      ]
    },
    {
      "cell_type": "code",
      "metadata": {
        "id": "lwoLa_r34TsP",
        "colab_type": "code",
        "colab": {}
      },
      "source": [
        "ann.add(tf.keras.layers.Dense(units=1,activation='sigmoid'));"
      ],
      "execution_count": null,
      "outputs": []
    },
    {
      "cell_type": "markdown",
      "metadata": {
        "id": "JT4u2S1_Y4WG",
        "colab_type": "text"
      },
      "source": [
        "## Part 3 - Training the ANN"
      ]
    },
    {
      "cell_type": "markdown",
      "metadata": {
        "id": "8GWlJChhY_ZI",
        "colab_type": "text"
      },
      "source": [
        "### Compiling the ANN"
      ]
    },
    {
      "cell_type": "code",
      "metadata": {
        "id": "TzmLy6kX5_Wn",
        "colab_type": "code",
        "colab": {}
      },
      "source": [
        "ann.compile(optimizer='adam',loss='binary_crossentropy',metrics=['accuracy']);"
      ],
      "execution_count": null,
      "outputs": []
    },
    {
      "cell_type": "markdown",
      "metadata": {
        "id": "0QR_G5u7ZLSM",
        "colab_type": "text"
      },
      "source": [
        "### Training the ANN on the Training set"
      ]
    },
    {
      "cell_type": "code",
      "metadata": {
        "id": "5X_E1bRh6P1F",
        "colab_type": "code",
        "colab": {
          "base_uri": "https://localhost:8080/",
          "height": 1000
        },
        "outputId": "594782ff-acdc-41e1-fc6d-be2ed7f734e2"
      },
      "source": [
        "ann.fit(X_train,y_train,batch_size=32,epochs=40);"
      ],
      "execution_count": null,
      "outputs": [
        {
          "output_type": "stream",
          "text": [
            "Epoch 1/40\n",
            "250/250 [==============================] - 0s 918us/step - loss: 0.5156 - accuracy: 0.7876\n",
            "Epoch 2/40\n",
            "250/250 [==============================] - 0s 957us/step - loss: 0.4588 - accuracy: 0.7974\n",
            "Epoch 3/40\n",
            "250/250 [==============================] - 0s 960us/step - loss: 0.4382 - accuracy: 0.7987\n",
            "Epoch 4/40\n",
            "250/250 [==============================] - 0s 999us/step - loss: 0.4288 - accuracy: 0.7984\n",
            "Epoch 5/40\n",
            "250/250 [==============================] - 0s 943us/step - loss: 0.4223 - accuracy: 0.8029\n",
            "Epoch 6/40\n",
            "250/250 [==============================] - 0s 931us/step - loss: 0.4177 - accuracy: 0.8027\n",
            "Epoch 7/40\n",
            "250/250 [==============================] - 0s 955us/step - loss: 0.4127 - accuracy: 0.8066\n",
            "Epoch 8/40\n",
            "250/250 [==============================] - 0s 954us/step - loss: 0.4078 - accuracy: 0.8052\n",
            "Epoch 9/40\n",
            "250/250 [==============================] - 0s 935us/step - loss: 0.4025 - accuracy: 0.8055\n",
            "Epoch 10/40\n",
            "250/250 [==============================] - 0s 1ms/step - loss: 0.3959 - accuracy: 0.8160\n",
            "Epoch 11/40\n",
            "250/250 [==============================] - 0s 924us/step - loss: 0.3895 - accuracy: 0.8253\n",
            "Epoch 12/40\n",
            "250/250 [==============================] - 0s 935us/step - loss: 0.3832 - accuracy: 0.8291\n",
            "Epoch 13/40\n",
            "250/250 [==============================] - 0s 912us/step - loss: 0.3762 - accuracy: 0.8364\n",
            "Epoch 14/40\n",
            "250/250 [==============================] - 0s 999us/step - loss: 0.3694 - accuracy: 0.8429\n",
            "Epoch 15/40\n",
            "250/250 [==============================] - 0s 1ms/step - loss: 0.3643 - accuracy: 0.8486\n",
            "Epoch 16/40\n",
            "250/250 [==============================] - 0s 967us/step - loss: 0.3600 - accuracy: 0.8505\n",
            "Epoch 17/40\n",
            "250/250 [==============================] - 0s 920us/step - loss: 0.3568 - accuracy: 0.8528\n",
            "Epoch 18/40\n",
            "250/250 [==============================] - 0s 952us/step - loss: 0.3543 - accuracy: 0.8546\n",
            "Epoch 19/40\n",
            "250/250 [==============================] - 0s 1ms/step - loss: 0.3525 - accuracy: 0.8558\n",
            "Epoch 20/40\n",
            "250/250 [==============================] - 0s 936us/step - loss: 0.3507 - accuracy: 0.8558\n",
            "Epoch 21/40\n",
            "250/250 [==============================] - 0s 946us/step - loss: 0.3494 - accuracy: 0.8568\n",
            "Epoch 22/40\n",
            "250/250 [==============================] - 0s 951us/step - loss: 0.3485 - accuracy: 0.8581\n",
            "Epoch 23/40\n",
            "250/250 [==============================] - 0s 981us/step - loss: 0.3473 - accuracy: 0.8583\n",
            "Epoch 24/40\n",
            "250/250 [==============================] - 0s 927us/step - loss: 0.3465 - accuracy: 0.8576\n",
            "Epoch 25/40\n",
            "250/250 [==============================] - 0s 933us/step - loss: 0.3458 - accuracy: 0.8597\n",
            "Epoch 26/40\n",
            "250/250 [==============================] - 0s 970us/step - loss: 0.3447 - accuracy: 0.8594\n",
            "Epoch 27/40\n",
            "250/250 [==============================] - 0s 992us/step - loss: 0.3437 - accuracy: 0.8576\n",
            "Epoch 28/40\n",
            "250/250 [==============================] - 0s 895us/step - loss: 0.3433 - accuracy: 0.8591\n",
            "Epoch 29/40\n",
            "250/250 [==============================] - 0s 942us/step - loss: 0.3428 - accuracy: 0.8597\n",
            "Epoch 30/40\n",
            "250/250 [==============================] - 0s 936us/step - loss: 0.3419 - accuracy: 0.8600\n",
            "Epoch 31/40\n",
            "250/250 [==============================] - 0s 980us/step - loss: 0.3414 - accuracy: 0.8605\n",
            "Epoch 32/40\n",
            "250/250 [==============================] - 0s 921us/step - loss: 0.3411 - accuracy: 0.8595\n",
            "Epoch 33/40\n",
            "250/250 [==============================] - 0s 1ms/step - loss: 0.3404 - accuracy: 0.8600\n",
            "Epoch 34/40\n",
            "250/250 [==============================] - 0s 930us/step - loss: 0.3401 - accuracy: 0.8597\n",
            "Epoch 35/40\n",
            "250/250 [==============================] - 0s 941us/step - loss: 0.3396 - accuracy: 0.8616\n",
            "Epoch 36/40\n",
            "250/250 [==============================] - 0s 937us/step - loss: 0.3392 - accuracy: 0.8599\n",
            "Epoch 37/40\n",
            "250/250 [==============================] - 0s 937us/step - loss: 0.3389 - accuracy: 0.8606\n",
            "Epoch 38/40\n",
            "250/250 [==============================] - 0s 957us/step - loss: 0.3385 - accuracy: 0.8602\n",
            "Epoch 39/40\n",
            "250/250 [==============================] - 0s 985us/step - loss: 0.3381 - accuracy: 0.8605\n",
            "Epoch 40/40\n",
            "250/250 [==============================] - 0s 969us/step - loss: 0.3378 - accuracy: 0.8611\n"
          ],
          "name": "stdout"
        }
      ]
    },
    {
      "cell_type": "markdown",
      "metadata": {
        "id": "tJj5k2MxZga3",
        "colab_type": "text"
      },
      "source": [
        "## Part 4 - Making the predictions and evaluating the model"
      ]
    },
    {
      "cell_type": "markdown",
      "metadata": {
        "id": "84QFoqGYeXHL",
        "colab_type": "text"
      },
      "source": [
        "### Predicting the result of a single observation"
      ]
    },
    {
      "cell_type": "markdown",
      "metadata": {
        "id": "CGRo3eacgDdC",
        "colab_type": "text"
      },
      "source": [
        "**Homework**\n",
        "\n",
        "Use our ANN model to predict if the customer with the following informations will leave the bank: \n",
        "\n",
        "Geography: France\n",
        "\n",
        "Credit Score: 600\n",
        "\n",
        "Gender: Male\n",
        "\n",
        "Age: 40 years old\n",
        "\n",
        "Tenure: 3 years\n",
        "\n",
        "Balance: \\$ 60000\n",
        "\n",
        "Number of Products: 2\n",
        "\n",
        "Does this customer have a credit card? Yes\n",
        "\n",
        "Is this customer an Active Member: Yes\n",
        "\n",
        "Estimated Salary: \\$ 50000\n",
        "\n",
        "So, should we say goodbye to that customer?"
      ]
    },
    {
      "cell_type": "code",
      "metadata": {
        "id": "I4neT-LqEWIT",
        "colab_type": "code",
        "colab": {
          "base_uri": "https://localhost:8080/",
          "height": 34
        },
        "outputId": "4a50f7c8-4389-45a5-946b-e35693301a62"
      },
      "source": [
        "print(ann.predict(sc.transform([[1,0,0,600,1,40,3,60000,2,1,1,50000]])));"
      ],
      "execution_count": null,
      "outputs": [
        {
          "output_type": "stream",
          "text": [
            "[[0.03454277]]\n"
          ],
          "name": "stdout"
        }
      ]
    },
    {
      "cell_type": "markdown",
      "metadata": {
        "id": "ZhU1LTgPg-kH",
        "colab_type": "text"
      },
      "source": [
        "**Solution**"
      ]
    },
    {
      "cell_type": "markdown",
      "metadata": {
        "id": "wGjx94g2n7OV",
        "colab_type": "text"
      },
      "source": [
        "Therefore, our ANN model predicts that this customer stays in the bank!\n",
        "\n",
        "**Important note 1:** Notice that the values of the features were all input in a double pair of square brackets. That's because the \"predict\" method always expects a 2D array as the format of its inputs. And putting our values into a double pair of square brackets makes the input exactly a 2D array.\n",
        "\n",
        "**Important note 2:** Notice also that the \"France\" country was not input as a string in the last column but as \"1, 0, 0\" in the first three columns. That's because of course the predict method expects the one-hot-encoded values of the state, and as we see in the first row of the matrix of features X, \"France\" was encoded as \"1, 0, 0\". And be careful to include these values in the first three columns, because the dummy variables are always created in the first columns."
      ]
    },
    {
      "cell_type": "markdown",
      "metadata": {
        "id": "u7yx47jPZt11",
        "colab_type": "text"
      },
      "source": [
        "### Predicting the Test set results"
      ]
    },
    {
      "cell_type": "code",
      "metadata": {
        "id": "XL3-xHNVF4Yx",
        "colab_type": "code",
        "colab": {
          "base_uri": "https://localhost:8080/",
          "height": 136
        },
        "outputId": "31489ba8-a637-46fd-a964-96906046f290"
      },
      "source": [
        "y_pred=ann.predict(X_test);\n",
        "y_pred=(y_pred>0.5);\n",
        "print(np.concatenate((y_test.reshape(len(y_test),1),y_pred.reshape(len(y_pred),1)),1));"
      ],
      "execution_count": null,
      "outputs": [
        {
          "output_type": "stream",
          "text": [
            "[[0 0]\n",
            " [0 0]\n",
            " [0 0]\n",
            " ...\n",
            " [0 0]\n",
            " [0 0]\n",
            " [0 0]]\n"
          ],
          "name": "stdout"
        }
      ]
    },
    {
      "cell_type": "markdown",
      "metadata": {
        "id": "o0oyfLWoaEGw",
        "colab_type": "text"
      },
      "source": [
        "### Making the Confusion Matrix"
      ]
    },
    {
      "cell_type": "code",
      "metadata": {
        "id": "L2zSU9zjGgsO",
        "colab_type": "code",
        "colab": {
          "base_uri": "https://localhost:8080/",
          "height": 68
        },
        "outputId": "0a0790d5-fb0e-4d9b-f557-f433fbeb2ffb"
      },
      "source": [
        "from sklearn.metrics import confusion_matrix;\n",
        "cm=confusion_matrix(y_test,y_pred);\n",
        "print(cm);\n",
        "from sklearn.metrics import accuracy_score;\n",
        "print(accuracy_score(y_test,y_pred));"
      ],
      "execution_count": null,
      "outputs": [
        {
          "output_type": "stream",
          "text": [
            "[[1534   51]\n",
            " [ 221  194]]\n",
            "0.864\n"
          ],
          "name": "stdout"
        }
      ]
    }
  ]
}