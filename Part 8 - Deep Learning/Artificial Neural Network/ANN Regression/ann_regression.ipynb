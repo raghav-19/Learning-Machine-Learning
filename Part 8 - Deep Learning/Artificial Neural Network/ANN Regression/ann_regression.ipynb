{
  "nbformat": 4,
  "nbformat_minor": 0,
  "metadata": {
    "colab": {
      "name": "ann_regression.ipynb",
      "provenance": []
    },
    "kernelspec": {
      "name": "python3",
      "display_name": "Python 3"
    }
  },
  "cells": [
    {
      "cell_type": "markdown",
      "metadata": {
        "id": "cI-eDJEA2k1X"
      },
      "source": [
        "#Artificial Neural Network Regression Problem"
      ]
    },
    {
      "cell_type": "markdown",
      "metadata": {
        "id": "7K9BMdad60R8"
      },
      "source": [
        "##Importing Libraries and Dataset"
      ]
    },
    {
      "cell_type": "code",
      "metadata": {
        "id": "66Ciys6Q2Kba"
      },
      "source": [
        "import numpy as np;\n",
        "import pandas as pd;\n",
        "import matplotlib.pyplot as plt;\n",
        "import tensorflow as tf;"
      ],
      "execution_count": 111,
      "outputs": []
    },
    {
      "cell_type": "code",
      "metadata": {
        "id": "JJ4otTOC4kYj"
      },
      "source": [
        "df=pd.read_excel(\"/content/drive/MyDrive/Dataset/Folds5x2_pp.xlsx\",sheet_name='Sheet1')\n",
        "X=df.iloc[:,:-1].values;\n",
        "y=df.iloc[:,-1].values;"
      ],
      "execution_count": 112,
      "outputs": []
    },
    {
      "cell_type": "markdown",
      "metadata": {
        "id": "zIaujUwk65hg"
      },
      "source": [
        "##Splitting Dataset and Feature Scaling"
      ]
    },
    {
      "cell_type": "code",
      "metadata": {
        "id": "LhFvpzbz4vPX"
      },
      "source": [
        "from sklearn.model_selection import train_test_split;\n",
        "X_train,X_test,y_train,y_test=train_test_split(X,y,test_size=0.25,random_state=5)"
      ],
      "execution_count": 113,
      "outputs": []
    },
    {
      "cell_type": "code",
      "metadata": {
        "id": "uEVnaOtHO_oY"
      },
      "source": [
        "from sklearn.preprocessing import StandardScaler;\n",
        "sc=StandardScaler();\n",
        "X_train=sc.fit_transform(X_train);\n",
        "X_test=sc.transform(X_test);"
      ],
      "execution_count": 114,
      "outputs": []
    },
    {
      "cell_type": "markdown",
      "metadata": {
        "id": "LYl4WvGU7ADV"
      },
      "source": [
        "##Building ANN"
      ]
    },
    {
      "cell_type": "code",
      "metadata": {
        "id": "kXD4Fkn65Vgr"
      },
      "source": [
        "ann=tf.keras.models.Sequential();\n",
        "ann.add(tf.keras.layers.Dense(6,activation='relu'));\n",
        "ann.add(tf.keras.layers.Dense(6,activation='relu'));\n",
        "ann.add(tf.keras.layers.Dense(1));"
      ],
      "execution_count": 115,
      "outputs": []
    },
    {
      "cell_type": "code",
      "metadata": {
        "colab": {
          "base_uri": "https://localhost:8080/"
        },
        "id": "kVPWSgUYMDa0",
        "outputId": "824bb97a-ae23-49a7-87a5-3ec356ca6ef6"
      },
      "source": [
        "ann.compile(optimizer='adam',loss='mae');\n",
        "history=ann.fit(X_train,y_train,batch_size=32,epochs=30,verbose=1,validation_data=(X_test,y_test));"
      ],
      "execution_count": 116,
      "outputs": [
        {
          "output_type": "stream",
          "text": [
            "Epoch 1/30\n",
            "225/225 [==============================] - 0s 2ms/step - loss: 453.2221 - val_loss: 451.0994\n",
            "Epoch 2/30\n",
            "225/225 [==============================] - 0s 1ms/step - loss: 444.2881 - val_loss: 433.5230\n",
            "Epoch 3/30\n",
            "225/225 [==============================] - 0s 1ms/step - loss: 409.3262 - val_loss: 376.1929\n",
            "Epoch 4/30\n",
            "225/225 [==============================] - 0s 1ms/step - loss: 323.6649 - val_loss: 274.6335\n",
            "Epoch 5/30\n",
            "225/225 [==============================] - 0s 1ms/step - loss: 248.3482 - val_loss: 231.2894\n",
            "Epoch 6/30\n",
            "225/225 [==============================] - 0s 1ms/step - loss: 206.7880 - val_loss: 187.5777\n",
            "Epoch 7/30\n",
            "225/225 [==============================] - 0s 1ms/step - loss: 157.0551 - val_loss: 132.1037\n",
            "Epoch 8/30\n",
            "225/225 [==============================] - 0s 1ms/step - loss: 106.2968 - val_loss: 89.3444\n",
            "Epoch 9/30\n",
            "225/225 [==============================] - 0s 1ms/step - loss: 76.6927 - val_loss: 66.8801\n",
            "Epoch 10/30\n",
            "225/225 [==============================] - 0s 1ms/step - loss: 59.6154 - val_loss: 52.4970\n",
            "Epoch 11/30\n",
            "225/225 [==============================] - 0s 1ms/step - loss: 46.4029 - val_loss: 40.8745\n",
            "Epoch 12/30\n",
            "225/225 [==============================] - 0s 1ms/step - loss: 36.1685 - val_loss: 32.2327\n",
            "Epoch 13/30\n",
            "225/225 [==============================] - 0s 1ms/step - loss: 28.6646 - val_loss: 25.9171\n",
            "Epoch 14/30\n",
            "225/225 [==============================] - 0s 1ms/step - loss: 23.1604 - val_loss: 20.9598\n",
            "Epoch 15/30\n",
            "225/225 [==============================] - 0s 1ms/step - loss: 18.7715 - val_loss: 16.9701\n",
            "Epoch 16/30\n",
            "225/225 [==============================] - 0s 1ms/step - loss: 15.3177 - val_loss: 13.8074\n",
            "Epoch 17/30\n",
            "225/225 [==============================] - 0s 1ms/step - loss: 12.6074 - val_loss: 11.2836\n",
            "Epoch 18/30\n",
            "225/225 [==============================] - 0s 1ms/step - loss: 10.4044 - val_loss: 9.2652\n",
            "Epoch 19/30\n",
            "225/225 [==============================] - 0s 1ms/step - loss: 8.5934 - val_loss: 7.7428\n",
            "Epoch 20/30\n",
            "225/225 [==============================] - 0s 1ms/step - loss: 7.1650 - val_loss: 6.4778\n",
            "Epoch 21/30\n",
            "225/225 [==============================] - 0s 1ms/step - loss: 6.0787 - val_loss: 5.6134\n",
            "Epoch 22/30\n",
            "225/225 [==============================] - 0s 1ms/step - loss: 5.3082 - val_loss: 5.0210\n",
            "Epoch 23/30\n",
            "225/225 [==============================] - 0s 1ms/step - loss: 4.7930 - val_loss: 4.5246\n",
            "Epoch 24/30\n",
            "225/225 [==============================] - 0s 1ms/step - loss: 4.4415 - val_loss: 4.2206\n",
            "Epoch 25/30\n",
            "225/225 [==============================] - 0s 1ms/step - loss: 4.1753 - val_loss: 4.0158\n",
            "Epoch 26/30\n",
            "225/225 [==============================] - 0s 1ms/step - loss: 3.9762 - val_loss: 3.7929\n",
            "Epoch 27/30\n",
            "225/225 [==============================] - 0s 1ms/step - loss: 3.8944 - val_loss: 3.7265\n",
            "Epoch 28/30\n",
            "225/225 [==============================] - 0s 1ms/step - loss: 3.8160 - val_loss: 3.7085\n",
            "Epoch 29/30\n",
            "225/225 [==============================] - 0s 1ms/step - loss: 3.7495 - val_loss: 3.7344\n",
            "Epoch 30/30\n",
            "225/225 [==============================] - 0s 1ms/step - loss: 3.7103 - val_loss: 3.6099\n"
          ],
          "name": "stdout"
        }
      ]
    },
    {
      "cell_type": "markdown",
      "metadata": {
        "id": "uhUoD4sENREz"
      },
      "source": [
        "##Predicting for Test dataset"
      ]
    },
    {
      "cell_type": "code",
      "metadata": {
        "colab": {
          "base_uri": "https://localhost:8080/"
        },
        "id": "Ec3mxEwKMwdW",
        "outputId": "cc4d6b05-2fca-4c3d-d8aa-a3b4086454a6"
      },
      "source": [
        "y_pred=ann.predict(X_test);\n",
        "from sklearn.metrics import mean_absolute_error;\n",
        "mean_absolute_error(y_pred,y_test)"
      ],
      "execution_count": 117,
      "outputs": [
        {
          "output_type": "execute_result",
          "data": {
            "text/plain": [
              "3.6098753137492823"
            ]
          },
          "metadata": {
            "tags": []
          },
          "execution_count": 117
        }
      ]
    },
    {
      "cell_type": "markdown",
      "metadata": {
        "id": "fFwrW1kSQvbs"
      },
      "source": [
        "##Visualize Model"
      ]
    },
    {
      "cell_type": "code",
      "metadata": {
        "colab": {
          "base_uri": "https://localhost:8080/",
          "height": 265
        },
        "id": "YhfLv7zRNVjM",
        "outputId": "69ea2d04-2035-49bc-b70a-d95a6790bf5a"
      },
      "source": [
        "plt.plot(history.history['loss'],label='train');\n",
        "plt.plot(history.history['val_loss'],label='test');\n",
        "plt.ylabel(\"MAE\");\n",
        "plt.legend();\n",
        "plt.plot();"
      ],
      "execution_count": 118,
      "outputs": [
        {
          "output_type": "display_data",
          "data": {
            "image/png": "[encoded data removed]",
            "text/plain": [
              "<Figure size 432x288 with 1 Axes>"
            ]
          },
          "metadata": {
            "tags": [],
            "needs_background": "light"
          }
        }
      ]
    },
    {
      "cell_type": "code",
      "metadata": {
        "colab": {
          "base_uri": "https://localhost:8080/"
        },
        "id": "SWsY19GJQOi4",
        "outputId": "aeed2c30-6439-417e-dfee-2aeaa52ce76e"
      },
      "source": [
        "ann.summary()"
      ],
      "execution_count": 119,
      "outputs": [
        {
          "output_type": "stream",
          "text": [
            "Model: \"sequential_13\"\n",
            "_________________________________________________________________\n",
            "Layer (type)                 Output Shape              Param #   \n",
            "=================================================================\n",
            "dense_36 (Dense)             (None, 6)                 30        \n",
            "_________________________________________________________________\n",
            "dense_37 (Dense)             (None, 6)                 42        \n",
            "_________________________________________________________________\n",
            "dense_38 (Dense)             (None, 1)                 7         \n",
            "=================================================================\n",
            "Total params: 79\n",
            "Trainable params: 79\n",
            "Non-trainable params: 0\n",
            "_________________________________________________________________\n"
          ],
          "name": "stdout"
        }
      ]
    },
    {
      "cell_type": "code",
      "metadata": {
        "colab": {
          "base_uri": "https://localhost:8080/",
          "height": 422
        },
        "id": "wrBwSB-nQ262",
        "outputId": "5b2bbae3-1dca-4915-8970-210e8b27c5ba"
      },
      "source": [
        "from tensorflow.keras.utils import plot_model;\n",
        "plot_model(ann,show_shapes=True)"
      ],
      "execution_count": 120,
      "outputs": [
        {
          "output_type": "execute_result",
          "data": {
            "image/png": "[encoded data removed]",
            "text/plain": [
              "<IPython.core.display.Image object>"
            ]
          },
          "metadata": {
            "tags": []
          },
          "execution_count": 120
        }
      ]
    }
  ]
}