{
  "nbformat": 4,
  "nbformat_minor": 0,
  "metadata": {
    "colab": {
      "name": "pandas.ipynb",
      "provenance": []
    },
    "kernelspec": {
      "name": "python3",
      "display_name": "Python 3"
    }
  },
  "cells": [
    {
      "cell_type": "markdown",
      "metadata": {
        "id": "sfTHLjdNWHZW"
      },
      "source": [
        "##Creating, Reading and Writing"
      ]
    },
    {
      "cell_type": "code",
      "metadata": {
        "id": "6EeJ_-9tRxMD"
      },
      "source": [
        "import pandas as pd;\n",
        "fruits=pd.DataFrame({'Apples':[30],'Bananas':[21]})\n",
        "#print(fruits)\n",
        "fruit_sales=pd.DataFrame({'Apples':[35,41],\n",
        "                          'Bananas':[21,34]},\n",
        "                          index=['2017 Sales','2018 Sales']);\n",
        "#print(fruit_sales)\n",
        "ingredients=pd.Series(['4 cups','1 cup','2 large','1 can'],index=['Flour','Milk','Eggs','Spam'],name='Dinner');\n",
        "#print(ingredients)"
      ],
      "execution_count": null,
      "outputs": []
    },
    {
      "cell_type": "code",
      "metadata": {
        "id": "rAHWj1VwDPoH"
      },
      "source": [
        "def check(df):\n",
        "  df['four']=df['three']+1"
      ],
      "execution_count": null,
      "outputs": []
    },
    {
      "cell_type": "code",
      "metadata": {
        "colab": {
          "base_uri": "https://localhost:8080/",
          "height": 142
        },
        "id": "vxLEFQCv0tMn",
        "outputId": "ff284966-fcae-459f-9c71-a5bf663190d2"
      },
      "source": [
        "my=[[2,3,4],[5,4,3],[7,2,3]];\n",
        "df=pd.DataFrame(my,columns=['one','two','three']);\n",
        "check(df)\n",
        "df"
      ],
      "execution_count": null,
      "outputs": [
        {
          "output_type": "execute_result",
          "data": {
            "text/html": [
              "<div>\n",
              "<style scoped>\n",
              "    .dataframe tbody tr th:only-of-type {\n",
              "        vertical-align: middle;\n",
              "    }\n",
              "\n",
              "    .dataframe tbody tr th {\n",
              "        vertical-align: top;\n",
              "    }\n",
              "\n",
              "    .dataframe thead th {\n",
              "        text-align: right;\n",
              "    }\n",
              "</style>\n",
              "<table border=\"1\" class=\"dataframe\">\n",
              "  <thead>\n",
              "    <tr style=\"text-align: right;\">\n",
              "      <th></th>\n",
              "      <th>one</th>\n",
              "      <th>two</th>\n",
              "      <th>three</th>\n",
              "      <th>four</th>\n",
              "    </tr>\n",
              "  </thead>\n",
              "  <tbody>\n",
              "    <tr>\n",
              "      <th>0</th>\n",
              "      <td>2</td>\n",
              "      <td>3</td>\n",
              "      <td>4</td>\n",
              "      <td>5</td>\n",
              "    </tr>\n",
              "    <tr>\n",
              "      <th>1</th>\n",
              "      <td>5</td>\n",
              "      <td>4</td>\n",
              "      <td>3</td>\n",
              "      <td>4</td>\n",
              "    </tr>\n",
              "    <tr>\n",
              "      <th>2</th>\n",
              "      <td>7</td>\n",
              "      <td>2</td>\n",
              "      <td>3</td>\n",
              "      <td>4</td>\n",
              "    </tr>\n",
              "  </tbody>\n",
              "</table>\n",
              "</div>"
            ],
            "text/plain": [
              "   one  two  three  four\n",
              "0    2    3      4     5\n",
              "1    5    4      3     4\n",
              "2    7    2      3     4"
            ]
          },
          "metadata": {
            "tags": []
          },
          "execution_count": 6
        }
      ]
    },
    {
      "cell_type": "markdown",
      "metadata": {
        "id": "Nj5wbGfnWGw8"
      },
      "source": [
        "##Indexing,Selecting and Assigning"
      ]
    },
    {
      "cell_type": "code",
      "metadata": {
        "id": "Z_4mS-fkWWS6"
      },
      "source": [
        "reviews=pd.read_csv(\"/content/drive/My Drive/Dataset/winemag.csv\",index_col=0);\n",
        "reviews.shape"
      ],
      "execution_count": null,
      "outputs": []
    },
    {
      "cell_type": "markdown",
      "metadata": {
        "id": "9AQJcuAM3SNp"
      },
      "source": [
        "##Summary Functions and Maps"
      ]
    },
    {
      "cell_type": "code",
      "metadata": {
        "id": "Ch8gDhWRIk5A"
      },
      "source": [
        "point_mean=reviews.points.mean()\n",
        "#reviews.points=reviews.points.map(lambda p: p-point_mean);\n",
        "reviews.head()"
      ],
      "execution_count": null,
      "outputs": []
    },
    {
      "cell_type": "code",
      "metadata": {
        "id": "4OI9ADSKsEzt"
      },
      "source": [
        "reviews.fillna(0,inplace=True);\n",
        "reviews['diff']=reviews.apply(lambda x : x['points']-x['price'],axis=1)"
      ],
      "execution_count": null,
      "outputs": []
    },
    {
      "cell_type": "code",
      "metadata": {
        "id": "nSpVX6_jsyF-"
      },
      "source": [
        "reviews[['points','price','diff']]"
      ],
      "execution_count": null,
      "outputs": []
    },
    {
      "cell_type": "code",
      "metadata": {
        "id": "Ad4yEwXxNCut"
      },
      "source": [
        "reviews.country.unique();\n",
        "reviews.country.value_counts();\n",
        "point_mean=reviews.points.mean();\n",
        "reviews.points-point_mean;\n",
        "bargain=reviews.points/reviews.price;\n",
        "reviews.title[(reviews.points/reviews.price)==bargain.max()];"
      ],
      "execution_count": null,
      "outputs": []
    },
    {
      "cell_type": "code",
      "metadata": {
        "id": "TQoc8iB2Rguk"
      },
      "source": [
        "n_trop=reviews.description.map(lambda p : \"tropical\" in p).sum();\n",
        "n_fruit=reviews.description.map(lambda p : \"fruity\" in p).sum();\n",
        "pd.Series([n_trop,n_fruit],index=['tropical','fruity'])\n"
      ],
      "execution_count": null,
      "outputs": []
    },
    {
      "cell_type": "code",
      "metadata": {
        "id": "IpeCaTTGSi0g"
      },
      "source": [
        "def rating(row):\n",
        "  if row.country==\"Canada\":\n",
        "    return 3;\n",
        "  return int((row.points-65)/10);\n",
        "#reviews.apply(rating,axis=1);"
      ],
      "execution_count": null,
      "outputs": []
    },
    {
      "cell_type": "markdown",
      "metadata": {
        "id": "pr3GFtYfvkbB"
      },
      "source": [
        "##Data Type and Missing Values"
      ]
    },
    {
      "cell_type": "code",
      "metadata": {
        "id": "DC3DZ5TnvpMR"
      },
      "source": [
        "reviews[pd.isnull(reviews.country)];\n",
        "reviews.country.fillna(\"Unknown\");\n",
        "reviews.country.replace(\"Italy\",\"Idli\"); # just kidding\n",
        "reviews.points.dtype;\n",
        "reviews.points.astype('str');\n",
        "reviews[pd.isnull(reviews.price)].shape[0];\n",
        "reg_series=reviews.region_1.fillna(\"Unknown\");\n",
        "reg_series.value_counts();\n"
      ],
      "execution_count": null,
      "outputs": []
    },
    {
      "cell_type": "markdown",
      "metadata": {
        "id": "PX6LxW762uvG"
      },
      "source": [
        "##Renaming and Combining"
      ]
    },
    {
      "cell_type": "markdown",
      "metadata": {
        "id": "OOmRpUS55W1K"
      },
      "source": [
        "####concat,join such that it increase no. of rows\n",
        "####join  ,join such that it increase no. of cols"
      ]
    },
    {
      "cell_type": "code",
      "metadata": {
        "id": "hWwf2pEa2yS2"
      },
      "source": [
        "reviews.rename(columns={'region_1':'region','region_2':'locale'});\n",
        "reviews.rename_axis('wines',axis='rows');"
      ],
      "execution_count": null,
      "outputs": []
    },
    {
      "cell_type": "markdown",
      "metadata": {
        "id": "XSqnpyqI8hzG"
      },
      "source": [
        "##Grouping and Sorting"
      ]
    },
    {
      "cell_type": "code",
      "metadata": {
        "id": "97qv4-ET8l5s"
      },
      "source": [
        "reviews.groupby(['taster_twitter_handle']).taster_twitter_handle.count();\n",
        "reviews.groupby(['price']).points.max();\n",
        "reviews.groupby(['variety']).price.agg([min,max]);\n",
        "temp=reviews.groupby(['variety']).price.agg([min,max]);\n",
        "temp.sort_values(by=['min','max'],ascending=False);\n",
        "reviews.groupby(['taster_name']).points.mean();\n",
        "reviews.groupby(['country','variety']).size().sort_values(ascending=False);"
      ],
      "execution_count": null,
      "outputs": []
    },
    {
      "cell_type": "code",
      "metadata": {
        "id": "T-QSRqCcv9f3"
      },
      "source": [
        "df1=pd.DataFrame({'col1':[1,2,4],\n",
        "                  'col2':[\"rag\",\"krat\",\"new\"]});\n",
        "df2=pd.DataFrame({'col1':[1,2,3],\n",
        "                  'age':[55,25,21]});"
      ],
      "execution_count": null,
      "outputs": []
    },
    {
      "cell_type": "code",
      "metadata": {
        "id": "mM5veNItwoUf"
      },
      "source": [
        "df=pd.merge(df1,df2,how='left',on='col1');\n",
        "df.head()"
      ],
      "execution_count": null,
      "outputs": []
    },
    {
      "cell_type": "code",
      "metadata": {
        "id": "mdGHVfx6z0cM"
      },
      "source": [
        "df['cat']=df.apply(lambda x : \"old\" if x['age']>=55 else \"adult\" if x['age']>30 else \"child\",axis=1)\n",
        "df.head()"
      ],
      "execution_count": null,
      "outputs": []
    }
  ]
}